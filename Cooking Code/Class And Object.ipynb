{
 "cells": [
  {
   "cell_type": "code",
   "execution_count": null,
   "id": "aeb62075",
   "metadata": {},
   "outputs": [],
   "source": [
    "#class means blue print\n",
    "#object means instance of the class\n",
    "#self in python work same as this in java.\n",
    "#self \"Reference to the current instance of a class\"\n",
    "#Constructor is a special method that is automatically called when an object is created from a class"
   ]
  },
  {
   "cell_type": "code",
   "execution_count": 3,
   "id": "ebc85ba7",
   "metadata": {},
   "outputs": [],
   "source": [
    "class student:\n",
    "    def __init__(self,name,id,dept): #constructor\n",
    "        self.name=name;\n",
    "        self.id=id;\n",
    "        self.dept=dept;\n",
    "    def info(self): #Method\n",
    "        print(\"Student Name: \",self.name)\n",
    "        print(\"Student Id: \",self.id)\n",
    "        print(\"Student Dept: \",self.dept)\n",
    "\n",
    "        "
   ]
  },
  {
   "cell_type": "code",
   "execution_count": 4,
   "id": "ca445956",
   "metadata": {},
   "outputs": [],
   "source": [
    "s1 = student(\"Fardin\",\"190204093\",\"CSE\")\n",
    "s2 = student(\"Bulbul\",\"190204093\",\"EEE\")"
   ]
  },
  {
   "cell_type": "code",
   "execution_count": 5,
   "id": "de20236f",
   "metadata": {},
   "outputs": [
    {
     "name": "stdout",
     "output_type": "stream",
     "text": [
      "Student Name:  Fardin\n",
      "Student Id:  190204093\n",
      "Student Dept:  CSE\n"
     ]
    }
   ],
   "source": [
    "s1.info();"
   ]
  },
  {
   "cell_type": "code",
   "execution_count": 6,
   "id": "3c4b0d8f",
   "metadata": {},
   "outputs": [
    {
     "name": "stdout",
     "output_type": "stream",
     "text": [
      "Student Name:  Bulbul\n",
      "Student Id:  190204093\n",
      "Student Dept:  EEE\n"
     ]
    }
   ],
   "source": [
    "s2.info();"
   ]
  },
  {
   "cell_type": "code",
   "execution_count": null,
   "id": "677b1499",
   "metadata": {},
   "outputs": [],
   "source": []
  }
 ],
 "metadata": {
  "kernelspec": {
   "display_name": "Python 3 (ipykernel)",
   "language": "python",
   "name": "python3"
  },
  "language_info": {
   "codemirror_mode": {
    "name": "ipython",
    "version": 3
   },
   "file_extension": ".py",
   "mimetype": "text/x-python",
   "name": "python",
   "nbconvert_exporter": "python",
   "pygments_lexer": "ipython3",
   "version": "3.11.1"
  }
 },
 "nbformat": 4,
 "nbformat_minor": 5
}
