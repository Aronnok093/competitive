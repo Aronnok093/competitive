{
 "cells": [
  {
   "cell_type": "code",
   "execution_count": null,
   "id": "b0bdf47e",
   "metadata": {},
   "outputs": [],
   "source": [
    "#GCD greatest common divisor\n",
    "#LCM least common multiple\n",
    "#A*B=GCD(A,B)*LCM(A,B)"
   ]
  },
  {
   "cell_type": "code",
   "execution_count": 4,
   "id": "371347dd",
   "metadata": {},
   "outputs": [
    {
     "name": "stdout",
     "output_type": "stream",
     "text": [
      "GCD:  6\n"
     ]
    }
   ],
   "source": [
    "import math\n",
    "\n",
    "a=12;\n",
    "b=18;\n",
    "\n",
    "gcd=math.gcd(a,b)\n",
    "\n",
    "print(\"GCD: \",gcd)"
   ]
  },
  {
   "cell_type": "code",
   "execution_count": 5,
   "id": "116abb05",
   "metadata": {},
   "outputs": [
    {
     "name": "stdout",
     "output_type": "stream",
     "text": [
      "LCM:  36\n"
     ]
    }
   ],
   "source": [
    "import math\n",
    "\n",
    "a=12;\n",
    "b=18;\n",
    "\n",
    "lcm=(a*b)//math.gcd(a,b)\n",
    "\n",
    "print(\"LCM: \",lcm)"
   ]
  },
  {
   "cell_type": "code",
   "execution_count": 7,
   "id": "704705b8",
   "metadata": {},
   "outputs": [
    {
     "name": "stdout",
     "output_type": "stream",
     "text": [
      "GCD: 2\n",
      "x: -1\n",
      "y: 2\n"
     ]
    }
   ],
   "source": [
    "def extended_gcd(a, b):\n",
    "    if b == 0:\n",
    "        return a, 1, 0\n",
    "    else:\n",
    "        gcd, x, y = extended_gcd(b, a % b)\n",
    "        return gcd, y, x - (a // b) * y\n",
    "\n",
    "a = 10\n",
    "b = 6\n",
    "gcd, x, y = extended_gcd(a, b)\n",
    "print(\"GCD:\", gcd)  # Output: 6\n",
    "print(\"x:\", x)  # Output: -1\n",
    "print(\"y:\", y)  # Output: 1\n"
   ]
  },
  {
   "cell_type": "code",
   "execution_count": null,
   "id": "7b85d835",
   "metadata": {},
   "outputs": [],
   "source": []
  }
 ],
 "metadata": {
  "kernelspec": {
   "display_name": "Python 3 (ipykernel)",
   "language": "python",
   "name": "python3"
  },
  "language_info": {
   "codemirror_mode": {
    "name": "ipython",
    "version": 3
   },
   "file_extension": ".py",
   "mimetype": "text/x-python",
   "name": "python",
   "nbconvert_exporter": "python",
   "pygments_lexer": "ipython3",
   "version": "3.11.1"
  }
 },
 "nbformat": 4,
 "nbformat_minor": 5
}
