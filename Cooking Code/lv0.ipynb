{
 "cells": [
  {
   "cell_type": "code",
   "execution_count": null,
   "id": "3bcba22d",
   "metadata": {},
   "outputs": [],
   "source": [
    "#eof in python"
   ]
  },
  {
   "cell_type": "code",
   "execution_count": null,
   "id": "a03bdec1",
   "metadata": {},
   "outputs": [],
   "source": [
    "try:\n",
    "    while True:\n",
    "        # Read input\n",
    "        line = input(\"Enter a line (Ctrl+D or Ctrl+Z to end): \")\n",
    "\n",
    "        # Process the input\n",
    "        # ...\n",
    "\n",
    "except EOFError:\n",
    "    # Handle end-of-file condition\n",
    "    print(\"End of input reached.\")\n"
   ]
  },
  {
   "cell_type": "code",
   "execution_count": null,
   "id": "fc910e18",
   "metadata": {},
   "outputs": [],
   "source": [
    "#1001. Reverse Root-Timus Online Judge"
   ]
  },
  {
   "cell_type": "code",
   "execution_count": 7,
   "id": "3b25a4f7",
   "metadata": {},
   "outputs": [
    {
     "name": "stdout",
     "output_type": "stream",
     "text": [
      " 1427  0        876652098643267843  5276538\n",
      "2297.0716\n",
      "936297014.1164\n",
      "0.0000\n",
      "37.7757\n"
     ]
    }
   ],
   "source": [
    "import math\n",
    "line = \"\"\n",
    "li = []\n",
    "\n",
    "#try:\n",
    "    #while True:\n",
    "line += input()+\" \"\n",
    "#except EOFError:\n",
    "li = line.split()\n",
    "ln=len(li)-1\n",
    "while ln >=0:\n",
    "    number=math.sqrt(int(li[ln]))\n",
    "    formatted_number = \"{:.4f}\".format(number)\n",
    "    print(formatted_number)\n",
    "    ln=ln-1;"
   ]
  },
  {
   "cell_type": "code",
   "execution_count": null,
   "id": "99bbccf7",
   "metadata": {},
   "outputs": [],
   "source": [
    "#set decimal point"
   ]
  },
  {
   "cell_type": "code",
   "execution_count": 8,
   "id": "133c04dc",
   "metadata": {},
   "outputs": [
    {
     "name": "stdout",
     "output_type": "stream",
     "text": [
      "3.14\n"
     ]
    }
   ],
   "source": [
    "pi=3.1416\n",
    "print(\"{:.2f}\".format(pi))"
   ]
  },
  {
   "cell_type": "code",
   "execution_count": null,
   "id": "bcb9ebf3",
   "metadata": {},
   "outputs": [],
   "source": [
    "#1014 Product of Digits"
   ]
  },
  {
   "cell_type": "code",
   "execution_count": 29,
   "id": "6280272f",
   "metadata": {},
   "outputs": [
    {
     "name": "stdout",
     "output_type": "stream",
     "text": [
      "42\n",
      "67\n"
     ]
    }
   ],
   "source": [
    "def ans(num):\n",
    "    s=\"\"\n",
    "    digits=[]\n",
    "    if num==0:\n",
    "        return 10 # minimum possitive number will be 10 bc 1*0=0. 0 is not positve number\n",
    "    elif(num<10):\n",
    "        return num # 2,3,4---ans 2,3,4\n",
    "    else:\n",
    "        for i in range(9,1,-1):\n",
    "            while num%i==0:\n",
    "                digits.append(i)\n",
    "                num=num//i\n",
    "        if(num>1):\n",
    "            return -1;\n",
    "        x=sorted(digits)\n",
    "        if len(x)==0:\n",
    "            return -1;\n",
    "        else:\n",
    "            for items in x:\n",
    "                s+=str(items)\n",
    "    return s\n",
    "num=int(input())\n",
    "print(ans(num))"
   ]
  },
  {
   "cell_type": "code",
   "execution_count": 19,
   "id": "66bd472c",
   "metadata": {},
   "outputs": [
    {
     "name": "stdout",
     "output_type": "stream",
     "text": [
      "9\n",
      "8\n",
      "7\n",
      "6\n",
      "5\n",
      "4\n",
      "3\n",
      "2\n"
     ]
    }
   ],
   "source": [
    "for i in range(9,1,-1):\n",
    "    print(i)"
   ]
  },
  {
   "cell_type": "code",
   "execution_count": null,
   "id": "9f73ca6b",
   "metadata": {},
   "outputs": [],
   "source": []
  }
 ],
 "metadata": {
  "kernelspec": {
   "display_name": "Python 3 (ipykernel)",
   "language": "python",
   "name": "python3"
  },
  "language_info": {
   "codemirror_mode": {
    "name": "ipython",
    "version": 3
   },
   "file_extension": ".py",
   "mimetype": "text/x-python",
   "name": "python",
   "nbconvert_exporter": "python",
   "pygments_lexer": "ipython3",
   "version": "3.11.1"
  }
 },
 "nbformat": 4,
 "nbformat_minor": 5
}
