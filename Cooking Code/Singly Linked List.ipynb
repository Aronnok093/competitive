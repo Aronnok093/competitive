{
 "cells": [
  {
   "cell_type": "code",
   "execution_count": null,
   "id": "a8081c13",
   "metadata": {},
   "outputs": [],
   "source": [
    "#One empty Head node\n",
    "#Every Node has Data Part and Reference part\n",
    "#In a singly linked list, each node contains a data element and a reference (or link) to the next node in the list. \n",
    "#The last node's reference is typically set to null to indicate the end of the list."
   ]
  },
  {
   "cell_type": "code",
   "execution_count": 12,
   "id": "237d5d93",
   "metadata": {},
   "outputs": [],
   "source": [
    "class node:\n",
    "    def __init__(self,data):\n",
    "        self.data=data\n",
    "        self.next=None\n",
    "        \n",
    "class link_list:\n",
    "    \n",
    "    def __init__(self):\n",
    "        self.head = None\n",
    "    \n",
    "    def insert(self,new_node):\n",
    "        \n",
    "        if self.head is None:\n",
    "            self.head=new_node\n",
    "        else:\n",
    "            current_node=self.head\n",
    "            while True:\n",
    "                if(current_node.next==None):\n",
    "                    break\n",
    "                current_node=current_node.next\n",
    "            current_node.next=new_node\n",
    "    def view(self):\n",
    "        current_node=self.head\n",
    "        while True:\n",
    "            print(\"->\",current_node.data,end=\" \")\n",
    "            if(current_node.next==None):\n",
    "                break\n",
    "            current_node=current_node.next\n"
   ]
  },
  {
   "cell_type": "code",
   "execution_count": 15,
   "id": "4b39a93a",
   "metadata": {},
   "outputs": [
    {
     "name": "stdout",
     "output_type": "stream",
     "text": [
      "-> 10 -> 20 -> 30 "
     ]
    }
   ],
   "source": [
    "# Create node objects\n",
    "node1 = node(10)\n",
    "node2 = node(20)\n",
    "node3 = node(30)\n",
    "\n",
    "# Create a linked list object\n",
    "my_list = link_list()\n",
    "\n",
    "# Insert nodes into the linked list\n",
    "my_list.insert(node1)\n",
    "my_list.insert(node2)\n",
    "my_list.insert(node3)\n",
    "\n",
    "# View the linked list\n",
    "my_list.view()\n",
    "\n",
    "\n",
    "    "
   ]
  },
  {
   "cell_type": "code",
   "execution_count": 16,
   "id": "1102d2c6",
   "metadata": {},
   "outputs": [
    {
     "name": "stdout",
     "output_type": "stream",
     "text": [
      "Enter the number of values to add: 10\n",
      "Enter a value: 56\n",
      "Enter a value: 66\n",
      "Enter a value: 34\n",
      "Enter a value: 21\n",
      "Enter a value: 34\n",
      "Enter a value: 54\n",
      "Enter a value: er\n",
      "Enter a value: 555\n",
      "Enter a value: 55\n",
      "Enter a value: 65\n",
      "-> 56 -> 66 -> 34 -> 21 -> 34 -> 54 -> er -> 555 -> 55 -> 65 "
     ]
    }
   ],
   "source": [
    "# Create an instance of the linked list\n",
    "my_list = link_list()\n",
    "\n",
    "# Add values dynamically using user input\n",
    "num_values = int(input(\"Enter the number of values to add: \"))\n",
    "\n",
    "for _ in range(num_values):\n",
    "    value = input(\"Enter a value: \")\n",
    "    new_node = node(value)\n",
    "    my_list.insert(new_node)\n",
    "\n",
    "# View the linked list\n",
    "my_list.view()"
   ]
  },
  {
   "cell_type": "code",
   "execution_count": null,
   "id": "a8448155",
   "metadata": {},
   "outputs": [],
   "source": [
    "#happy coding"
   ]
  }
 ],
 "metadata": {
  "kernelspec": {
   "display_name": "Python 3 (ipykernel)",
   "language": "python",
   "name": "python3"
  },
  "language_info": {
   "codemirror_mode": {
    "name": "ipython",
    "version": 3
   },
   "file_extension": ".py",
   "mimetype": "text/x-python",
   "name": "python",
   "nbconvert_exporter": "python",
   "pygments_lexer": "ipython3",
   "version": "3.11.1"
  }
 },
 "nbformat": 4,
 "nbformat_minor": 5
}
