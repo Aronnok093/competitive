{
 "cells": [
  {
   "cell_type": "code",
   "execution_count": null,
   "id": "1678a39b",
   "metadata": {},
   "outputs": [],
   "source": [
    "#BigMod\n",
    "\n",
    "2^100 = (2^50 mod 7)*(2^50 mod 7)\n",
    "2^50 = (2^25 mod 7)*(2^25 mod 7)"
   ]
  },
  {
   "cell_type": "code",
   "execution_count": 1,
   "id": "7efd78a8",
   "metadata": {},
   "outputs": [
    {
     "name": "stdout",
     "output_type": "stream",
     "text": [
      "2  =  4\n",
      "4  =  2\n",
      "8  =  4\n",
      "16  =  2\n",
      "32  =  4\n",
      "64  =  2\n",
      "128  =  4\n",
      "\n",
      "4\n"
     ]
    }
   ],
   "source": [
    "a=2\n",
    "i=1;\n",
    "while i<=100:\n",
    "    i=i*2;\n",
    "    a=(a*a)%7\n",
    "    print(i,\" = \",a)\n",
    "l=pow(2,128)%7\n",
    "print()\n",
    "print(l)"
   ]
  },
  {
   "cell_type": "code",
   "execution_count": 15,
   "id": "d10a3e59",
   "metadata": {},
   "outputs": [
    {
     "name": "stdout",
     "output_type": "stream",
     "text": [
      "2\n"
     ]
    }
   ],
   "source": [
    "def bigMod(a,b,M):\n",
    "    \n",
    "    while True:\n",
    "        a=(a*a)%M\n",
    "        if(b==0):\n",
    "            break\n",
    "        b=int(b/2);\n",
    "    return a;\n",
    "\n",
    "print(bigMod(2,4,7))"
   ]
  },
  {
   "cell_type": "code",
   "execution_count": null,
   "id": "12243d84",
   "metadata": {},
   "outputs": [],
   "source": []
  }
 ],
 "metadata": {
  "kernelspec": {
   "display_name": "Python 3 (ipykernel)",
   "language": "python",
   "name": "python3"
  },
  "language_info": {
   "codemirror_mode": {
    "name": "ipython",
    "version": 3
   },
   "file_extension": ".py",
   "mimetype": "text/x-python",
   "name": "python",
   "nbconvert_exporter": "python",
   "pygments_lexer": "ipython3",
   "version": "3.11.1"
  }
 },
 "nbformat": 4,
 "nbformat_minor": 5
}
